{
 "cells": [
  {
   "cell_type": "code",
   "execution_count": 16,
   "id": "3628e228",
   "metadata": {},
   "outputs": [
    {
     "name": "stdout",
     "output_type": "stream",
     "text": [
      "Original Linked List:\n",
      "3 -> 2 -> -1 -> 1 -> -2 -> 4 -> -3 -> None\n",
      "Linked List after deleting zero-sum sublists:\n",
      "3 -> 4 -> -3 -> None\n"
     ]
    }
   ],
   "source": [
    "# 1.Delete elements in a linked list whose sum is zero:\n",
    "class ListNode:\n",
    "    def __init__(self, val=0, next=None):\n",
    "        self.val = val\n",
    "        self.next = next\n",
    "\n",
    "def delete_zero_sum_sublists(head):\n",
    "    dummy = ListNode(0)\n",
    "    dummy.next = head\n",
    "    prefix_sum = 0\n",
    "    prefix_sum_map = {}\n",
    "    \n",
    "    current = dummy\n",
    "    while current:\n",
    "        prefix_sum += current.val\n",
    "        if prefix_sum in prefix_sum_map:\n",
    "            prev = prefix_sum_map[prefix_sum].next\n",
    "            temp_sum = prefix_sum + prev.val\n",
    "            while prev != current:\n",
    "                del prefix_sum_map[temp_sum]\n",
    "                prev = prev.next\n",
    "                temp_sum += prev.val\n",
    "            prefix_sum_map[prefix_sum].next = current.next\n",
    "        else:\n",
    "            prefix_sum_map[prefix_sum] = current\n",
    "        current = current.next\n",
    "    \n",
    "    return dummy.next\n",
    "def print_linked_list(head):\n",
    "    while head:\n",
    "        print(head.val, end=\" -> \")\n",
    "        head = head.next\n",
    "    print(\"None\")\n",
    "nodes = [ListNode(3), ListNode(2), ListNode(-1), ListNode(1), ListNode(-2), ListNode(4), ListNode(-3)]\n",
    "for i in range(len(nodes) - 1):\n",
    "    nodes[i].next = nodes[i + 1]\n",
    "head = nodes[0]\n",
    "\n",
    "print(\"Original Linked List:\")\n",
    "print_linked_list(head)\n",
    "\n",
    "new_head = delete_zero_sum_sublists(head)\n",
    "print(\"Linked List after deleting zero-sum sublists:\")\n",
    "print_linked_list(new_head)\n"
   ]
  },
  {
   "cell_type": "code",
   "execution_count": 17,
   "id": "2b3f3975",
   "metadata": {},
   "outputs": [
    {
     "name": "stdout",
     "output_type": "stream",
     "text": [
      "Original Linked List:\n",
      "1 -> 2 -> 3 -> 4 -> 5 -> 6 -> 7 -> 8 -> None\n",
      "Linked List after reversing in groups of 3:\n",
      "3 -> 2 -> 1 -> 6 -> 5 -> 4 -> 7 -> 8 -> None\n"
     ]
    }
   ],
   "source": [
    "#2. Reverse a Linked List in Groups of Given Size:\n",
    "class ListNode:\n",
    "    def __init__(self, val=0, next=None):\n",
    "        self.val = val\n",
    "        self.next = next\n",
    "\n",
    "def reverse_linked_list_in_groups(head, k):\n",
    "    current = head\n",
    "    prev = None\n",
    "    count = 0\n",
    "    while current and count < k:\n",
    "        current = current.next\n",
    "        count += 1\n",
    "    \n",
    "    if count < k:\n",
    "        return head  \n",
    "    \n",
    "    current = head\n",
    "    new_head = None\n",
    "    while current and count > 0:\n",
    "        next_node = current.next\n",
    "        current.next = new_head\n",
    "        new_head = current\n",
    "        current = next_node\n",
    "        count -= 1\n",
    "    \n",
    "   \n",
    "    if current:\n",
    "        head.next = reverse_linked_list_in_groups(current, k)\n",
    "    \n",
    "    return new_head\n",
    "\n",
    "\n",
    "def print_linked_list(head):\n",
    "    while head:\n",
    "        print(head.val, end=\" -> \")\n",
    "        head = head.next\n",
    "    print(\"None\")\n",
    "\n",
    "\n",
    "nodes = [ListNode(i) for i in range(1, 9)]\n",
    "for i in range(len(nodes) - 1):\n",
    "    nodes[i].next = nodes[i + 1]\n",
    "head = nodes[0]\n",
    "\n",
    "print(\"Original Linked List:\")\n",
    "print_linked_list(head)\n",
    "\n",
    "k = 3 \n",
    "new_head = reverse_linked_list_in_groups(head, k)\n",
    "print(f\"Linked List after reversing in groups of {k}:\")\n",
    "print_linked_list(new_head)\n",
    "\n"
   ]
  },
  {
   "cell_type": "code",
   "execution_count": 18,
   "id": "1a46e0cf",
   "metadata": {},
   "outputs": [
    {
     "name": "stdout",
     "output_type": "stream",
     "text": [
      "Linked List 1:\n",
      "1 -> 2 -> 3 -> None\n",
      "Linked List 2:\n",
      "A -> B -> C -> D -> None\n",
      "Linked List after merging at alternate positions:\n",
      "1 -> A -> 2 -> B -> 3 -> C -> None\n"
     ]
    }
   ],
   "source": [
    "#3. Merge a Linked List into Another Linked List at Alternate Positions:\n",
    "class ListNode:\n",
    "    def __init__(self, val=0, next=None):\n",
    "        self.val = val\n",
    "        self.next = next\n",
    "\n",
    "def merge_alternate_positions(head1, head2):\n",
    "    current1 = head1\n",
    "    current2 = head2\n",
    "    \n",
    "    while current1 and current2:\n",
    "        next1 = current1.next\n",
    "        next2 = current2.next\n",
    "        \n",
    "        current1.next = current2\n",
    "        current2.next = next1\n",
    "        \n",
    "        current1 = next1\n",
    "        current2 = next2\n",
    "    \n",
    "    return head1\n",
    "\n",
    "\n",
    "def print_linked_list(head):\n",
    "    while head:\n",
    "        print(head.val, end=\" -> \")\n",
    "        head = head.next\n",
    "    print(\"None\")\n",
    "\n",
    "\n",
    "nodes1 = [ListNode(i) for i in range(1, 4)]\n",
    "nodes2 = [ListNode(chr(ord('A') + i)) for i in range(4)]\n",
    "for i in range(len(nodes1) - 1):\n",
    "    nodes1[i].next = nodes1[i + 1]\n",
    "for i in range(len(nodes2) - 1):\n",
    "    nodes2[i].next = nodes2[i + 1]\n",
    "head1 = nodes1[0]\n",
    "head2 = nodes2[0]\n",
    "\n",
    "print(\"Linked List 1:\")\n",
    "print_linked_list(head1)\n",
    "print(\"Linked List 2:\")\n",
    "print_linked_list(head2)\n",
    "\n",
    "merged_head = merge_alternate_positions(head1, head2)\n",
    "print(\"Linked List after merging at alternate positions:\")\n",
    "print_linked_list(merged_head)\n"
   ]
  },
  {
   "cell_type": "code",
   "execution_count": 19,
   "id": "93b9d299",
   "metadata": {},
   "outputs": [
    {
     "name": "stdout",
     "output_type": "stream",
     "text": [
      "Number of pairs with sum 6: 3\n"
     ]
    }
   ],
   "source": [
    "#4. Count Pairs with Given Sum in an Array:\n",
    "def count_pairs_with_sum(arr, target_sum):\n",
    "    count = 0\n",
    "    num_frequency = {}\n",
    "    \n",
    "    for num in arr:\n",
    "        complement = target_sum - num\n",
    "        if complement in num_frequency:\n",
    "            count += num_frequency[complement]\n",
    "        if num in num_frequency:\n",
    "            num_frequency[num] += 1\n",
    "        else:\n",
    "            num_frequency[num] = 1\n",
    "    \n",
    "    return count\n",
    "\n",
    "arr = [1, 5, 7, -1, 5]\n",
    "target_sum = 6\n",
    "result = count_pairs_with_sum(arr, target_sum)\n",
    "print(f\"Number of pairs with sum {target_sum}: {result}\")\n"
   ]
  },
  {
   "cell_type": "code",
   "execution_count": 20,
   "id": "23b83162",
   "metadata": {},
   "outputs": [
    {
     "name": "stdout",
     "output_type": "stream",
     "text": [
      "Duplicate elements: [2, 4]\n"
     ]
    }
   ],
   "source": [
    "#5. Find Duplicates in an Array:\n",
    "def find_duplicates(arr):\n",
    "    duplicates = []\n",
    "    num_frequency = {}\n",
    "    \n",
    "    for num in arr:\n",
    "        if num in num_frequency:\n",
    "            duplicates.append(num)\n",
    "        else:\n",
    "            num_frequency[num] = 1\n",
    "    \n",
    "    return duplicates\n",
    "\n",
    "arr = [4, 3, 2, 7, 8, 2, 1, 4]\n",
    "duplicates = find_duplicates(arr)\n",
    "print(\"Duplicate elements:\", duplicates)\n"
   ]
  },
  {
   "cell_type": "code",
   "execution_count": 21,
   "id": "760d79d7",
   "metadata": {},
   "outputs": [
    {
     "name": "stdout",
     "output_type": "stream",
     "text": [
      "3rd largest element: 10\n",
      "2nd smallest element: 4\n"
     ]
    }
   ],
   "source": [
    "#6. Find Kth Largest and Kth Smallest Number in an Array:\n",
    "def find_kth_largest(arr, k):\n",
    "    return sorted(arr, reverse=True)[k - 1]\n",
    "\n",
    "def find_kth_smallest(arr, k):\n",
    "    return sorted(arr)[k - 1]\n",
    "\n",
    "arr = [7, 10, 4, 3, 20, 15]\n",
    "k_largest = 3\n",
    "k_smallest = 2\n",
    "result_k_largest = find_kth_largest(arr, k_largest)\n",
    "result_k_smallest = find_kth_smallest(arr, k_smallest)\n",
    "print(f\"{k_largest}rd largest element:\", result_k_largest)\n",
    "print(f\"{k_smallest}nd smallest element:\", result_k_smallest)\n"
   ]
  },
  {
   "cell_type": "code",
   "execution_count": 22,
   "id": "fadec188",
   "metadata": {},
   "outputs": [
    {
     "name": "stdout",
     "output_type": "stream",
     "text": [
      "Array after moving negatives to one side: [-12, -6, -13, -5, -3, -7, 5, 6, 11]\n"
     ]
    }
   ],
   "source": [
    "#7. Move All Negative Elements to One Side of the Array:\n",
    "def move_negatives_to_one_side(arr):\n",
    "    left, right = 0, len(arr) - 1\n",
    "    \n",
    "    while left <= right:\n",
    "        if arr[left] < 0 and arr[right] < 0:\n",
    "            left += 1\n",
    "        elif arr[left] > 0 and arr[right] < 0:\n",
    "            arr[left], arr[right] = arr[right], arr[left]\n",
    "            left += 1\n",
    "            right -= 1\n",
    "        elif arr[left] > 0 and arr[right] > 0:\n",
    "            right -= 1\n",
    "        else:\n",
    "            left += 1\n",
    "            right -= 1\n",
    "    \n",
    "    return arr\n",
    "\n",
    "arr = [-12, 11, -13, -5, 6, -7, 5, -3, -6]\n",
    "result = move_negatives_to_one_side(arr)\n",
    "print(\"Array after moving negatives to one side:\", result)\n"
   ]
  },
  {
   "cell_type": "code",
   "execution_count": 23,
   "id": "8b91195f",
   "metadata": {},
   "outputs": [
    {
     "name": "stdout",
     "output_type": "stream",
     "text": [
      "Reversed string: !dlroW ,olleH\n"
     ]
    }
   ],
   "source": [
    "#8. Reverse a String Using a Stack Data Structure:\n",
    "def reverse_string_using_stack(s):\n",
    "    stack = []\n",
    "    for char in s:\n",
    "        stack.append(char)\n",
    "    reversed_string = \"\"\n",
    "    while stack:\n",
    "        reversed_string += stack.pop()\n",
    "    return reversed_string\n",
    "\n",
    "input_string = \"Hello, World!\"\n",
    "reversed_str = reverse_string_using_stack(input_string)\n",
    "print(\"Reversed string:\", reversed_str)\n"
   ]
  },
  {
   "cell_type": "code",
   "execution_count": 24,
   "id": "d6f424c9",
   "metadata": {},
   "outputs": [
    {
     "name": "stdout",
     "output_type": "stream",
     "text": [
      "Result of postfix expression: 35\n"
     ]
    }
   ],
   "source": [
    "#9. Evaluate a Postfix Expression Using Stack:\n",
    "def evaluate_postfix_expression(expression):\n",
    "    stack = []\n",
    "    for char in expression:\n",
    "        if char.isdigit():\n",
    "            stack.append(int(char))\n",
    "        else:\n",
    "            operand2 = stack.pop()\n",
    "            operand1 = stack.pop()\n",
    "            if char == '+':\n",
    "                stack.append(operand1 + operand2)\n",
    "            elif char == '-':\n",
    "                stack.append(operand1 - operand2)\n",
    "            elif char == '*':\n",
    "                stack.append(operand1 * operand2)\n",
    "            elif char == '/':\n",
    "                stack.append(operand1 / operand2)\n",
    "    return stack.pop()\n",
    "\n",
    "postfix_expression = \"82+3*5+\"\n",
    "result = evaluate_postfix_expression(postfix_expression)\n",
    "print(\"Result of postfix expression:\", result)\n"
   ]
  },
  {
   "cell_type": "code",
   "execution_count": 25,
   "id": "138f5da1",
   "metadata": {},
   "outputs": [
    {
     "name": "stdout",
     "output_type": "stream",
     "text": [
      "Dequeued: 1\n",
      "Dequeued: 2\n",
      "Dequeued: 3\n",
      "Dequeued: 4\n"
     ]
    }
   ],
   "source": [
    "#10. Implement a Queue Using the Stack Data Structure:\n",
    "class QueueUsingStack:\n",
    "    def __init__(self):\n",
    "        self.stack1 = []\n",
    "        self.stack2 = []\n",
    "    \n",
    "    def enqueue(self, value):\n",
    "        self.stack1.append(value)\n",
    "    \n",
    "    def dequeue(self):\n",
    "        if not self.stack2:\n",
    "            if not self.stack1:\n",
    "                return None  \n",
    "            while self.stack1:\n",
    "                self.stack2.append(self.stack1.pop())\n",
    "        return self.stack2.pop()\n",
    "\n",
    "queue = QueueUsingStack()\n",
    "queue.enqueue(1)\n",
    "queue.enqueue(2)\n",
    "queue.enqueue(3)\n",
    "print(\"Dequeued:\", queue.dequeue())\n",
    "queue.enqueue(4)\n",
    "print(\"Dequeued:\", queue.dequeue())\n",
    "print(\"Dequeued:\", queue.dequeue())\n",
    "print(\"Dequeued:\", queue.dequeue())\n"
   ]
  },
  {
   "cell_type": "code",
   "execution_count": null,
   "id": "ceaddb24",
   "metadata": {},
   "outputs": [],
   "source": []
  },
  {
   "cell_type": "code",
   "execution_count": null,
   "id": "5015325d",
   "metadata": {},
   "outputs": [],
   "source": []
  }
 ],
 "metadata": {
  "kernelspec": {
   "display_name": "Python 3 (ipykernel)",
   "language": "python",
   "name": "python3"
  },
  "language_info": {
   "codemirror_mode": {
    "name": "ipython",
    "version": 3
   },
   "file_extension": ".py",
   "mimetype": "text/x-python",
   "name": "python",
   "nbconvert_exporter": "python",
   "pygments_lexer": "ipython3",
   "version": "3.10.9"
  }
 },
 "nbformat": 4,
 "nbformat_minor": 5
}
